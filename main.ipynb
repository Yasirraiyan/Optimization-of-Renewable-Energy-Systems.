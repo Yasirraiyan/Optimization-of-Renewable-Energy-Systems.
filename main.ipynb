{
  "nbformat": 4,
  "nbformat_minor": 0,
  "metadata": {
    "colab": {
      "provenance": []
    },
    "kernelspec": {
      "name": "python3",
      "display_name": "Python 3"
    },
    "language_info": {
      "name": "python"
    }
  },
  "cells": [
    {
      "cell_type": "code",
      "execution_count": 1,
      "metadata": {
        "colab": {
          "base_uri": "https://localhost:8080/"
        },
        "id": "iFnWbyXVnZ14",
        "outputId": "033778fc-62c8-42f6-eef8-0e9c1e23f672"
      },
      "outputs": [
        {
          "output_type": "stream",
          "name": "stdout",
          "text": [
            "Enter value of x:4\n",
            "Value of x: 2.8\n",
            "Value of x: 1.8399999999999999\n",
            "Value of x: 1.0719999999999998\n",
            "Value of x: 0.4575999999999998\n",
            "Value of x: -0.03392000000000017\n",
            "Value of x: -0.4271360000000002\n",
            "Value of x: -0.7417088000000002\n",
            "Value of x: -0.9933670400000001\n",
            "Value of x: -1.1946936320000001\n",
            "Value of x: -1.3557549056\n",
            "Value of x: -1.48460392448\n",
            "Value of x: -1.587683139584\n",
            "Value of x: -1.6701465116672\n",
            "Value of x: -1.73611720933376\n",
            "Value of x: -1.788893767467008\n",
            "Value of x: -1.8311150139736063\n",
            "Value of x: -1.8648920111788851\n",
            "Value of x: -1.8919136089431081\n",
            "Value of x: -1.9135308871544865\n",
            "Value of x: -1.930824709723589\n",
            "Value of x: -1.9446597677788713\n",
            "Value of x: -1.955727814223097\n",
            "Value of x: -1.9645822513784776\n",
            "Value of x: -1.9716658011027821\n",
            "Value of x: -1.9773326408822256\n",
            "Value of x: -1.9818661127057804\n",
            "Value of x: -1.9854928901646243\n",
            "Value of x: -1.9883943121316994\n",
            "Value of x: -1.9907154497053594\n",
            "Value of x: -1.9925723597642875\n",
            "Value of x: -1.99405788781143\n",
            "Value of x: -1.995246310249144\n",
            "Value of x: -1.9961970481993152\n",
            "Value of x: -1.996957638559452\n",
            "Value of x: -1.9975661108475617\n",
            "Value of x: -1.9980528886780493\n",
            "Value of x: -1.9984423109424394\n",
            "Value of x: -1.9987538487539516\n",
            "Value of x: -1.9990030790031612\n",
            "Value of x: -1.999202463202529\n",
            "Value of x: -1.9993619705620231\n",
            "Value of x: -1.9994895764496186\n",
            "Value of x: -1.9995916611596949\n",
            "Final value of x: -1.9995916611596949\n"
          ]
        }
      ],
      "source": [
        "import math\n",
        "\n",
        "def function(x):\n",
        "    return x**2 + 4*x\n",
        "\n",
        "def diff(x):\n",
        "    return 2*x + 4\n",
        "\n",
        "alpha = 0.1\n",
        "x = float(input(\"Enter value of x:\"))\n",
        "\n",
        "while abs(diff(x)) >= 0.001:\n",
        "    x = x - alpha * diff(x)\n",
        "    print(f\"Value of x: {x}\")\n",
        "\n",
        "print(f\"Final value of x: {x}\")\n"
      ]
    }
  ]
}
